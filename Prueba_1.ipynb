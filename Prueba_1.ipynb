{
  "cells": [
    {
      "cell_type": "markdown",
      "metadata": {
        "id": "7vGMRorix7fJ"
      },
      "source": [
        "# **Prueba \\#1**\n",
        "\n",
        "En la siguiente pureba se evalua de manera EXCLUSIVA lo que se solicita, cualquier otra respuesta adicional a ella será valorada, más no evaluada. Entregue la prueba en un repositorio de github antes de el lunes 7 de agosto a las 06:59:59.\n",
        "\n"
      ]
    },
    {
      "cell_type": "markdown",
      "metadata": {
        "id": "2JiTz8I9yhXB"
      },
      "source": [
        "## **Ejercicio 1** (50 pts)\n",
        "\n",
        "Escriba una clase `Pedido` que pueda ser usada para gestionar la información de los pedidos realizados a una pastelería (o carnicería o tienda de ropa o empresa que ud desee). Evite usar módulos como numpy, pandas o cualquier otro.\n",
        "\n",
        "### **Rubrica**:\n",
        "\n",
        "1. Generación de la clase que funcione correctamente con al menos 2 métodos y 2 atributos. **30 pts**.\n",
        "2. Comentarios y  documentación que sirva para quien deba usar la clase. **5 pts**.\n",
        "3. Pertinencia de la clase en el ámbito, ¿Por qué será útil esta herramienta y cómo ayudará a mejorar el negocio? esta será entregada en una celda de texto. **10 pts**.\n",
        "4. ¿Cree que se pueda construir una clase hija que ayude al proceso? Si sí constrúyala, sino, argumente por qué en una célda de código. **5 pts**."
      ]
    },
    {
      "cell_type": "code",
      "execution_count": null,
      "metadata": {
        "id": "AgwS8cBnx5Zc",
        "outputId": "02698190-acdc-4896-a844-52805ad8b790",
        "colab": {
          "base_uri": "https://localhost:8080/"
        }
      },
      "outputs": [
        {
          "output_type": "stream",
          "name": "stdout",
          "text": [
            "Customer Name: Andrea / Customer ID: 320146\n",
            "Ordered Products: \n",
            "- Shoes_Red: $500.5\n",
            "- Shoes_Blue: $700.99\n",
            "Total: $ 1201.49\n"
          ]
        }
      ],
      "source": [
        "## Se inicializa una clase para representar el producto que, en este caso son zapatos. La clase tiene dos atributos: tipo de zapatos y precio.\n",
        "class Shoes_product():\n",
        "  \"\"\"Clase para representar el producto de zapatos.\n",
        "\n",
        "    Atributos:\n",
        "    - shoes_category (str): El tipo de zapatos.\n",
        "    - price (float): El precio de los zapatos.\n",
        "    \"\"\"\n",
        "  def __init__(self, shoes_category: str, price: float):\n",
        "    self.shoes_category = shoes_category\n",
        "    self.price = price\n",
        "\n",
        "## Se inicializa una clase para representar la orden de compra (PEDIDO). Este objeto contiene 3 atributos: nombre del cliente, id del cliente y lista de productos.\n",
        "## Esta clase contiene, a su vez, 3 metodos.\n",
        "class Shoes_order():\n",
        "  \"\"\"Clase para representar la orden de compra.\n",
        "\n",
        "    Atributos:\n",
        "    - customer_name (str): El nombre del cliente que realizó la orden.\n",
        "    - customer_id (int): El ID del cliente que realizó la orden.\n",
        "    - products (list): La lista de productos ordenados.\n",
        "    \"\"\"\n",
        "  def __init__(self, customer_name: str, customer_id: int):   ## Metodo constructor.\n",
        "    self.customer_name = customer_name\n",
        "    self.customer_id = customer_id\n",
        "    self.products=[]\n",
        "\n",
        "  ## Este método imprime los detalles de la orden, incluyendo el nombre del cliente, el ID del cliente y los productos ordenados con sus precios.\n",
        "  ## Calcula el total de la orden e imprime también ese valor.\n",
        "  def print_order(self):\n",
        "    print(f'Customer Name: {self.customer_name} / Customer ID: {self.customer_id}')\n",
        "    print('Ordered Products: ')\n",
        "    total=0\n",
        "    for shoe in self.products:\n",
        "      print(f'- {shoe.shoes_category}: ${shoe.price}')\n",
        "      total += shoe.price\n",
        "    print('Total: $', total)\n",
        "\n",
        "  ## Este método permite agregar un producto a la lista de productos de la orden.\n",
        "  def add_product(self, product: Shoes_product):\n",
        "    self.products.append(product)\n",
        "\n",
        "#------------------------------------------------------------------------------------------------------------------------------------------------------\n",
        "shoes1=Shoes_product('Shoes_Red',500.5)\n",
        "shoes2=Shoes_product('Shoes_Blue',700.99)\n",
        "\n",
        "order_customer1=Shoes_order('Andrea', 320146)\n",
        "order_customer1.add_product(shoes1)\n",
        "order_customer1.add_product(shoes2)\n",
        "\n",
        "order_customer1.print_order()\n",
        "#------------------------------------------------------------------------------------------------------------------------------------------------------"
      ]
    },
    {
      "cell_type": "markdown",
      "source": [
        "3) La clase 'Shoes_order' o 'Pedido' ciertamente es pertinente en el ámbito empresarial porque proporciona una estructura organizada y eficiente para gestionar los pedidos de zapatos en el negocio. Su utilidad radica en varios aspectos que pueden ayudar a mejorar la operacion del negocio de los zapatos ya que permite mantener organizada la informacion sobre los pedidos y detalles pertinentes como nombre del cliente, el ID del cliente y los productos ordenados. Tambien puede ser utilizada como insumo en el proceso de facturación, en la generación de informes de ventas o en la gestión de inventario del negocio.\n",
        "\n",
        "Finalmente, a medida que el negocio crece o se necesite realizar mantenimiento del codigo se puede actualizar la clase 'Shoes_order' sin necesidad de editar multiples partes del codigo.\n",
        "\n",
        "4) Sí se puede construir una clase hija que ayude en el proceso de gestión de pedidos de zapatos en el negocio. Se creara una clase hija llamada Online_shoes_order, que hereda de la clase Shoes_order para manejar pedidos en línea específicamente. Esta clase podría agregar características adicionales como el procesamiento de pagos en línea, la gestión de envíos y la interacción con una base de datos de clientes en línea."
      ],
      "metadata": {
        "id": "u3mr6dhgE_lr"
      }
    },
    {
      "cell_type": "code",
      "source": [
        "class Online_shoes_order(Shoes_order):\n",
        "    \"\"\"Esta clase es para representar una orden de zapatos en línea.\n",
        "\n",
        "    Attributes:\n",
        "    - customer_name (str): El nombre del cliente que realizó la orden.\n",
        "    - customer_id (int): El ID del cliente que realizó la orden.\n",
        "    - products (list): La lista de productos ordenados.\n",
        "    - payment_method (str): El método de pago utilizado para la orden en línea.\n",
        "    - shipping_address (str): La dirección de envío para la orden en línea.\n",
        "    \"\"\"\n",
        "    ## Inicializmos un objeto de orden de zapatos en línea.\n",
        "    def __init__(self, customer_name: str, customer_id: int, payment_method: str, shipping_address: str):\n",
        "        super().__init__(customer_name, customer_id)\n",
        "        self.payment_method = payment_method\n",
        "        self.shipping_address = shipping_address\n",
        "\n",
        "    ## Este metodo procesa la orden en línea, incluyendo el pago y la gestión del envio.\n",
        "    def Process_order(self):\n",
        "        print(f'Procesando orden en línea de {self.customer_name}...')\n",
        "        print(f'Método de pago: {self.payment_method}')\n",
        "        print(f'Dirección de envío: {self.shipping_address}')\n",
        "        print('¡Orden procesada exitosamente!')\n",
        "\n",
        "online_order = Online_shoes_order('Carlos', 12345, 'Tarjeta de crédito', '123 Calle Principal')\n",
        "online_order.add_product(Shoes_product('Zapatos Verdes', 120.50))\n",
        "online_order.print_order()\n",
        "online_order.Process_order()"
      ],
      "metadata": {
        "colab": {
          "base_uri": "https://localhost:8080/"
        },
        "id": "d32dedW6H1sd",
        "outputId": "b1af9c52-329b-4c55-8126-f2d7880ca4b0"
      },
      "execution_count": 8,
      "outputs": [
        {
          "output_type": "stream",
          "name": "stdout",
          "text": [
            "Customer Name: Carlos / Customer ID: 12345\n",
            "Ordered Products: \n",
            "- Zapatos Verdes: $120.5\n",
            "Total: $ 120.5\n",
            "Procesando orden en línea de Carlos...\n",
            "Método de pago: Tarjeta de crédito\n",
            "Dirección de envío: 123 Calle Principal\n",
            "¡Orden procesada exitosamente!\n"
          ]
        }
      ]
    },
    {
      "cell_type": "markdown",
      "metadata": {
        "id": "pnfosm2l12c5"
      },
      "source": [
        "## **Ejercicio 2** (50 pts)\n",
        "\n",
        "Realice los siguientes ejercicios con numpy\n",
        "\n",
        "1. Resolver el siguiente sistema de ecuaciones. **16 pts**\n",
        "\n",
        "$$\n",
        "2x + 3y - z + 4w + 5v = 15\n",
        "$$\n",
        "\n",
        "$$\n",
        "x - 2y + 4z - 3w + v = 6\n",
        "$$\n",
        "\n",
        "$$\n",
        "3x + 2y - 3z + 5w - 2v = 11\n",
        "$$\n",
        "\n",
        "$$\n",
        "4x + y - 2z + 3w + 2v = 8\n",
        "$$\n",
        "\n",
        "$$\n",
        "x + y + z + w + v = 7\n",
        "$$\n",
        "\n",
        "2. Calcule el valor del número de Euler o constante de Napier $e = 2,71828$ como:\n",
        "\n",
        "$$e = \\sum_i ^{\\infty} \\frac{1}{n!}$$\n",
        "\n",
        "  ¿Qué precisión en términos de el número de términos necesita para dar cuenta de los primeros 5 números de la coma decimal? **18 pts**\n",
        "\n",
        "3. Ecuentre los auto valores de la matriz.  **16 pts**\n",
        "\n",
        "$$\n",
        "\\begin{pmatrix}\n",
        "2 & 1 & 1 \\\\\n",
        "4 & 3 & 2 \\\\\n",
        "1 & 1 & 2 \\\\\n",
        "\\end{pmatrix}\n",
        "$$\n",
        "\n"
      ]
    },
    {
      "cell_type": "code",
      "execution_count": 2,
      "metadata": {
        "id": "8gu89-aP5ibM",
        "colab": {
          "base_uri": "https://localhost:8080/"
        },
        "outputId": "3392236c-c6b9-46de-c2fb-680b8b0b966d"
      },
      "outputs": [
        {
          "output_type": "stream",
          "name": "stdout",
          "text": [
            "[-1.67741935 -7.87096774  5.12903226 10.          1.41935484] 7.0\n"
          ]
        }
      ],
      "source": [
        "import numpy as np\n",
        "\n",
        "# 'a' es es un array con los coeficientes de las diferentes funciones.\n",
        "a = np.array([[2, 3, -1, 4, 5], [1, -2, 4, -3, 1],[3, 2, -3, 5, -2],[4, 1, -2, 3, 2],[1, 1, 1, 1, 1]])\n",
        "\n",
        "# 'b' son los resultados de dichas funciones.\n",
        "b = np.array([15, 6, 11, 8, 7])\n",
        "\n",
        "# 'linalg.solve' recibe los coeficientes y los resultados, y retorna los resultados para cada variable.\n",
        "x = np.linalg.solve(a, b)\n",
        "\n",
        "# Imprimimos los resultados y sumamos los valores para confirmar la última ecuación x + y + z + w + v = 7\n",
        "print(x,sum(x))"
      ]
    },
    {
      "cell_type": "code",
      "source": [
        "# Esta función calcula el número de Euler utilizando distintas precisiones.\n",
        "# Se determina que a partir de 10 iteraciones se obtiene una precisión de hasta el quinto decimal.\n",
        "def calcular_euler(n):\n",
        "  # 'np.vectorize' permite que una función se pueda aplicar a un array completo.\n",
        "  return sum(1/np.vectorize(np.math.factorial)(np.arange(n)))\n",
        "print(np.vectorize(calcular_euler)(np.arange(1,11)))"
      ],
      "metadata": {
        "colab": {
          "base_uri": "https://localhost:8080/"
        },
        "id": "jGSIGat6G68N",
        "outputId": "24619d09-e011-435f-d347-a701491a7de7"
      },
      "execution_count": 3,
      "outputs": [
        {
          "output_type": "stream",
          "name": "stdout",
          "text": [
            "[1.         2.         2.5        2.66666667 2.70833333 2.71666667\n",
            " 2.71805556 2.71825397 2.71827877 2.71828153]\n"
          ]
        }
      ]
    },
    {
      "cell_type": "code",
      "source": [
        "a = np.array(([2,1,1],\n",
        "              [4,3,2],\n",
        "              [1,1,2]))\n",
        "\n",
        "val, vec = np.linalg.eig(a)"
      ],
      "metadata": {
        "id": "PLpPkq-LG_Sj"
      },
      "execution_count": 4,
      "outputs": []
    }
  ],
  "metadata": {
    "colab": {
      "provenance": []
    },
    "kernelspec": {
      "display_name": "Python 3 (ipykernel)",
      "language": "python",
      "name": "python3"
    },
    "language_info": {
      "codemirror_mode": {
        "name": "ipython",
        "version": 3
      },
      "file_extension": ".py",
      "mimetype": "text/x-python",
      "name": "python",
      "nbconvert_exporter": "python",
      "pygments_lexer": "ipython3",
      "version": "3.10.10"
    }
  },
  "nbformat": 4,
  "nbformat_minor": 0
}